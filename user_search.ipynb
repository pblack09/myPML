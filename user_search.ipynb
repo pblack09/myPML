{
 "cells": [
  {
   "cell_type": "code",
   "execution_count": null,
   "metadata": {},
   "outputs": [],
   "source": [
    "import pandas as pd\n",
    "data_file = 'music_library.csv'\n",
    "df = pd.read_csv(data_file)"
   ]
  },
  {
   "cell_type": "code",
   "execution_count": null,
   "metadata": {},
   "outputs": [],
   "source": [
    "    # Approximate rubric for difficulty scale\n",
    "ability_rubric = \"\"\"\n",
    "Approximations based on (TX - UIL) 5A/6A and 2C/3C classifications:\n",
    "10: Top-level HS Varsity\n",
    "9:  Very strong HS Varsity\n",
    "8:  Average HS Varsity\n",
    "7:  Very strong HS Non-Varsity\n",
    "6:  Average HS Non-Varsity\n",
    "5:  Top-level MS Varsity\n",
    "4:  Average HS Sub Non-Varsity\n",
    "3:  Average MS Non-Varsity\n",
    "2:  Average MS Sub Non-Varsity\n",
    "1:  Early MS Sub Non-Varsity\n",
    "\"\"\""
   ]
  },
  {
   "cell_type": "code",
   "execution_count": null,
   "metadata": {},
   "outputs": [],
   "source": [
    "    # Take the search criteria and tell which classes to activate\n",
    "class Search(object):\n",
    "    \n",
    "        def __init__(self, title, grade, difficulty, composer):\n",
    "            self.title = title\n",
    "            self.grade = grade\n",
    "            self.difficulty = difficulty\n",
    "            self.composer = composer\n",
    "\n",
    "        def user_search(self):\n",
    "            if self.title == 1:\n",
    "                Title.search()\n",
    "            else:\n",
    "                pass\n",
    "\n",
    "            if self.grade == 1:\n",
    "                Grade.search()\n",
    "            else:\n",
    "                pass\n",
    "            \n",
    "            if self.difficulty == 1:\n",
    "                Difficulty.search()\n",
    "            else:\n",
    "                pass\n",
    "            \n",
    "            if self.composer == 1:\n",
    "                Composer.search()\n",
    "            else:\n",
    "                pass"
   ]
  },
  {
   "cell_type": "code",
   "execution_count": null,
   "metadata": {},
   "outputs": [],
   "source": [
    "class Title(Search):\n",
    "\n",
    "        def search():\n",
    "            search_title = input(\"What piece are you looking for? \")\n",
    "            title_results = (df['Title'].str.lower().str.contains(search_title))\n",
    "            print (df[title_results])"
   ]
  },
  {
   "cell_type": "code",
   "execution_count": null,
   "metadata": {},
   "outputs": [],
   "source": [
    "class Grade(Search):\n",
    "\n",
    "        def search():\n",
    "            given_grade = input(\"What grade level are you searching for? \")\n",
    "            if given_grade == \"1\":\n",
    "                 grade_result = (df['Grade'] == 1)\n",
    "            elif given_grade == \"2\":\n",
    "                 grade_result = (df['Grade'] == 2)\n",
    "            elif given_grade == \"3\":\n",
    "                 grade_result = (df['Grade'] == 3)\n",
    "            elif given_grade == \"4\":\n",
    "                 grade_result = (df['Grade'] == 4)\n",
    "            elif given_grade == \"5\":\n",
    "                 grade_result = (df['Grade'] == 5)\n",
    "            elif given_grade == \"6\":\n",
    "                 grade_result = (df['Grade'] == 6)\n",
    "            elif given_grade == \"7\":\n",
    "                 grade_result = (df['Grade'] == 7)\n",
    "            elif given_grade == \"8\":\n",
    "                 grade_result = (df['Grade'] == 8)\n",
    "            elif given_grade == \"9\":\n",
    "                 grade_result = (df['Grade'] == 9)\n",
    "            elif given_grade == \"10\":\n",
    "                 grade_result = (df['Grade'] == 10)\n",
    "            else:\n",
    "                 print (df)\n",
    "                \n",
    "            print (df[grade_result])"
   ]
  },
  {
   "cell_type": "code",
   "execution_count": null,
   "metadata": {},
   "outputs": [],
   "source": [
    "class Difficulty(Search):\n",
    "\n",
    "        def search():\n",
    "            print(ability_rubric)\n",
    "            given_total = input(\"What is your ensemble's overall ability level? \")\n",
    "            if given_total == \"1\":\n",
    "                 total_result = (df['Total'] == 1)\n",
    "            elif given_total == \"2\":\n",
    "                 total_result = (df['Total'] == 2)\n",
    "            elif given_total == \"3\":\n",
    "                 total_result = (df['Total'] == 3)\n",
    "            elif given_total == \"4\":\n",
    "                 total_result = (df['Total'] == 4)\n",
    "            elif given_total == \"5\":\n",
    "                 total_result = (df['Total'] == 5)\n",
    "            print (df[total_result])\n",
    "            # if only difficulty given:\n",
    "                # search all sheets for difficulty\n",
    "            # if grade and difficulty given:\n",
    "                # search grade_? for difficulty"
   ]
  },
  {
   "cell_type": "code",
   "execution_count": null,
   "metadata": {},
   "outputs": [],
   "source": [
    "class Composer(Search):\n",
    "\n",
    "        def search():\n",
    "            name = input(\"Which composers/arrangers are you looking for? \")\n",
    "            comp_search = (df['Composer'].str.lower().str.contains(name) | (df['Arranger'].str.lower().str.contains(name)))\n",
    "            print (df[comp_search])\n"
   ]
  },
  {
   "cell_type": "code",
   "execution_count": null,
   "metadata": {},
   "outputs": [],
   "source": [
    "    # User enters their search criteria\n",
    "search_1 = input(\"Are you searching for a specific piece? \")\n",
    "    if search_1.lower() == \"yes\":\n",
    "        title = 1\n",
    "    else:\n",
    "        title = 0\n",
    "\n",
    "search_2 = input(\"Are you searching for a specific grade level? \")\n",
    "    if search_2.lower() == \"yes\":\n",
    "        grade = 1\n",
    "    else:\n",
    "        grade = 0\n",
    "\n",
    "search_3 = input(\"Are you searching for a specific difficulty? \")\n",
    "    if search_3.lower() == \"yes\":\n",
    "        difficulty = 1\n",
    "    else:\n",
    "        difficulty = 0\n",
    "\n",
    "search_4 = input(\"Are you searching for a specific composer or arranger? \")\n",
    "    if search_4.lower() == \"yes\":\n",
    "        composer = 1\n",
    "    else:\n",
    "        composer = 0"
   ]
  },
  {
   "cell_type": "code",
   "execution_count": null,
   "metadata": {},
   "outputs": [],
   "source": [
    "    # User's search criteria submitted through class Search\n",
    "prompt = Search(title, grade, difficulty, composer)\n",
    "prompt.user_search()"
   ]
  }
 ],
 "metadata": {
  "kernelspec": {
   "display_name": "Python 3",
   "language": "python",
   "name": "python3"
  },
  "language_info": {
   "codemirror_mode": {
    "name": "ipython",
    "version": 3
   },
   "file_extension": ".py",
   "mimetype": "text/x-python",
   "name": "python",
   "nbconvert_exporter": "python",
   "pygments_lexer": "ipython3",
   "version": "3.7.6"
  }
 },
 "nbformat": 4,
 "nbformat_minor": 4
}
