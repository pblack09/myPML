{
 "cells": [
  {
   "cell_type": "code",
   "execution_count": 1,
   "metadata": {},
   "outputs": [],
   "source": [
    "import pandas as pd\n",
    "data_file = 'music_library.csv'\n",
    "df = pd.read_csv(data_file)"
   ]
  },
  {
   "cell_type": "code",
   "execution_count": 2,
   "metadata": {},
   "outputs": [],
   "source": [
    "    # Approximate rubric for difficulty scale\n",
    "ability_rubric = \"\"\"\n",
    "Approximations based on (TX - UIL) 5A/6A and 2C/3C classifications:\n",
    "10: Top-level HS Varsity\n",
    "9:  Very strong HS Varsity\n",
    "8:  Average HS Varsity\n",
    "7:  Very strong HS Non-Varsity\n",
    "6:  Average HS Non-Varsity\n",
    "5:  Top-level MS Varsity\n",
    "4:  Average HS Sub Non-Varsity\n",
    "3:  Average MS Non-Varsity\n",
    "2:  Average MS Sub Non-Varsity\n",
    "1:  Early MS Sub Non-Varsity\n",
    "\"\"\""
   ]
  },
  {
   "cell_type": "code",
   "execution_count": 3,
   "metadata": {},
   "outputs": [
    {
     "name": "stdin",
     "output_type": "stream",
     "text": [
      "What piece are you searching for?  \n"
     ]
    },
    {
     "name": "stdout",
     "output_type": "stream",
     "text": [
      "What grade level are you searching for?\n"
     ]
    },
    {
     "name": "stdin",
     "output_type": "stream",
     "text": [
      " \n"
     ]
    },
    {
     "name": "stdout",
     "output_type": "stream",
     "text": [
      "\n",
      "Approximations based on (TX - UIL) 5A/6A and 2C/3C classifications:\n",
      "10: Top-level HS Varsity\n",
      "9:  Very strong HS Varsity\n",
      "8:  Average HS Varsity\n",
      "7:  Very strong HS Non-Varsity\n",
      "6:  Average HS Non-Varsity\n",
      "5:  Top-level MS Varsity\n",
      "4:  Average HS Sub Non-Varsity\n",
      "3:  Average MS Non-Varsity\n",
      "2:  Average MS Sub Non-Varsity\n",
      "1:  Early MS Sub Non-Varsity\n",
      "\n",
      "What difficulty are you searching for?\n"
     ]
    },
    {
     "name": "stdin",
     "output_type": "stream",
     "text": [
      " 3\n",
      "Which composer/arranger are you searching for?  bach\n"
     ]
    }
   ],
   "source": [
    "    # User enters their search criteria\n",
    "\n",
    "# Search for Title:\n",
    "title = input(\"What piece are you searching for? \")\n",
    "given_title = title.lower()\n",
    "\n",
    "# Search for Grade Level:\n",
    "print(\"What grade level are you searching for?\")\n",
    "grade_request = input()\n",
    "    if grade_request == \"\":\n",
    "        given_grade = [1, 2, 3, 4, 5]\n",
    "    else:\n",
    "        given_grade = [int(grade_request)]\n",
    "\n",
    "# Search for Difficulty:\n",
    "print(ability_rubric)\n",
    "print(\"What difficulty are you searching for?\")\n",
    "total_request = input()\n",
    "    if total_request == \"\":\n",
    "        given_total = [1, 2, 3, 4, 5, 6, 7, 8, 9, 10]\n",
    "    else:\n",
    "        given_total = [int(total_request)]\n",
    "\n",
    "# Search for Composer/Arranger\n",
    "name = input(\"Which composer/arranger are you searching for? \")\n",
    "given_name = name.lower()"
   ]
  },
  {
   "cell_type": "code",
   "execution_count": 4,
   "metadata": {},
   "outputs": [
    {
     "data": {
      "text/html": [
       "<div>\n",
       "<style scoped>\n",
       "    .dataframe tbody tr th:only-of-type {\n",
       "        vertical-align: middle;\n",
       "    }\n",
       "\n",
       "    .dataframe tbody tr th {\n",
       "        vertical-align: top;\n",
       "    }\n",
       "\n",
       "    .dataframe thead th {\n",
       "        text-align: right;\n",
       "    }\n",
       "</style>\n",
       "<table border=\"1\" class=\"dataframe\">\n",
       "  <thead>\n",
       "    <tr style=\"text-align: right;\">\n",
       "      <th></th>\n",
       "      <th>Code</th>\n",
       "      <th>Event Name</th>\n",
       "      <th>Title</th>\n",
       "      <th>Composer</th>\n",
       "      <th>Arranger</th>\n",
       "      <th>Genre</th>\n",
       "      <th>Publisher [Collection]</th>\n",
       "      <th>Grade</th>\n",
       "      <th>Specification</th>\n",
       "      <th>Total</th>\n",
       "      <th>...</th>\n",
       "      <th>Oboe</th>\n",
       "      <th>Clarinet</th>\n",
       "      <th>Bassoon</th>\n",
       "      <th>Saxophone</th>\n",
       "      <th>Trumpet</th>\n",
       "      <th>Horn</th>\n",
       "      <th>Trombone</th>\n",
       "      <th>Euphonium</th>\n",
       "      <th>Tuba</th>\n",
       "      <th>Percussion</th>\n",
       "    </tr>\n",
       "  </thead>\n",
       "  <tbody>\n",
       "    <tr>\n",
       "      <th>191</th>\n",
       "      <td>100-2-15288</td>\n",
       "      <td>Band</td>\n",
       "      <td>Bach Chorale and March</td>\n",
       "      <td>Bach</td>\n",
       "      <td>Wilson</td>\n",
       "      <td>NaN</td>\n",
       "      <td>Alfred Music Company, Inc.</td>\n",
       "      <td>2</td>\n",
       "      <td>NaN</td>\n",
       "      <td>3.0</td>\n",
       "      <td>...</td>\n",
       "      <td>3.0</td>\n",
       "      <td>3.0</td>\n",
       "      <td>3.0</td>\n",
       "      <td>3.0</td>\n",
       "      <td>3.0</td>\n",
       "      <td>3.0</td>\n",
       "      <td>3.0</td>\n",
       "      <td>3.0</td>\n",
       "      <td>3.0</td>\n",
       "      <td>3.0</td>\n",
       "    </tr>\n",
       "    <tr>\n",
       "      <th>248</th>\n",
       "      <td>100-2-15289</td>\n",
       "      <td>Band</td>\n",
       "      <td>Fugue in Bb Major</td>\n",
       "      <td>Bach</td>\n",
       "      <td>Daehn</td>\n",
       "      <td>NaN</td>\n",
       "      <td>Daehn Publications</td>\n",
       "      <td>2</td>\n",
       "      <td>NaN</td>\n",
       "      <td>3.0</td>\n",
       "      <td>...</td>\n",
       "      <td>3.0</td>\n",
       "      <td>3.0</td>\n",
       "      <td>3.0</td>\n",
       "      <td>3.0</td>\n",
       "      <td>3.0</td>\n",
       "      <td>3.0</td>\n",
       "      <td>3.0</td>\n",
       "      <td>3.0</td>\n",
       "      <td>3.0</td>\n",
       "      <td>3.0</td>\n",
       "    </tr>\n",
       "  </tbody>\n",
       "</table>\n",
       "<p>2 rows × 21 columns</p>\n",
       "</div>"
      ],
      "text/plain": [
       "            Code Event Name                   Title Composer Arranger Genre  \\\n",
       "191  100-2-15288       Band  Bach Chorale and March     Bach   Wilson   NaN   \n",
       "248  100-2-15289       Band       Fugue in Bb Major     Bach    Daehn   NaN   \n",
       "\n",
       "         Publisher [Collection]  Grade Specification  Total  ...  Oboe  \\\n",
       "191  Alfred Music Company, Inc.      2           NaN    3.0  ...   3.0   \n",
       "248          Daehn Publications      2           NaN    3.0  ...   3.0   \n",
       "\n",
       "     Clarinet  Bassoon  Saxophone  Trumpet  Horn  Trombone  Euphonium  Tuba  \\\n",
       "191       3.0      3.0        3.0      3.0   3.0       3.0        3.0   3.0   \n",
       "248       3.0      3.0        3.0      3.0   3.0       3.0        3.0   3.0   \n",
       "\n",
       "     Percussion  \n",
       "191         3.0  \n",
       "248         3.0  \n",
       "\n",
       "[2 rows x 21 columns]"
      ]
     },
     "execution_count": 4,
     "metadata": {},
     "output_type": "execute_result"
    }
   ],
   "source": [
    "    # Perform search function\n",
    "    \n",
    "df[(df['Title'].str.lower().str.contains(given_title)) & (df['Grade'].isin(given_grade)) & (df['Total'].isin(given_total)) & (df['Composer'].str.lower().str.contains(given_name) | df['Arranger'].str.lower().str.contains(given_name))]"
   ]
  },
  {
   "cell_type": "code",
   "execution_count": null,
   "metadata": {},
   "outputs": [],
   "source": []
  }
 ],
 "metadata": {
  "kernelspec": {
   "display_name": "Python 3",
   "language": "python",
   "name": "python3"
  },
  "language_info": {
   "codemirror_mode": {
    "name": "ipython",
    "version": 3
   },
   "file_extension": ".py",
   "mimetype": "text/x-python",
   "name": "python",
   "nbconvert_exporter": "python",
   "pygments_lexer": "ipython3",
   "version": "3.7.6"
  }
 },
 "nbformat": 4,
 "nbformat_minor": 4
}
